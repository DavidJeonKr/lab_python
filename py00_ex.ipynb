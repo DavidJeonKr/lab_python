{
  "nbformat": 4,
  "nbformat_minor": 0,
  "metadata": {
    "colab": {
      "name": "py00_ex.ipynb",
      "provenance": [],
      "collapsed_sections": [],
      "authorship_tag": "ABX9TyP+OigeztxlIyD11Rj2i2/7",
      "include_colab_link": true
    },
    "kernelspec": {
      "name": "python3",
      "display_name": "Python 3"
    },
    "language_info": {
      "name": "python"
    }
  },
  "cells": [
    {
      "cell_type": "markdown",
      "metadata": {
        "id": "view-in-github",
        "colab_type": "text"
      },
      "source": [
        "<a href=\"https://colab.research.google.com/github/DavidJeonKr/lab_python/blob/master/py00_ex.ipynb\" target=\"_parent\"><img src=\"https://colab.research.google.com/assets/colab-badge.svg\" alt=\"Open In Colab\"/></a>"
      ]
    },
    {
      "cell_type": "markdown",
      "source": [
        "# 연습"
      ],
      "metadata": {
        "id": "XwmgDh4iv4pA"
      }
    },
    {
      "cell_type": "code",
      "execution_count": null,
      "metadata": {
        "id": "23u5Y4pwvx3o"
      },
      "outputs": [],
      "source": [
        "# Default argument\n",
        "def repeat_message(message, n=1):\n",
        "    for _ in range(n):\n",
        "        print(message)"
      ]
    },
    {
      "cell_type": "code",
      "source": [
        "repeat_message('Hello')"
      ],
      "metadata": {
        "colab": {
          "base_uri": "https://localhost:8080/"
        },
        "id": "nZj13_oPfidx",
        "outputId": "e403a894-07d6-48af-d0dd-df7650f478d9"
      },
      "execution_count": null,
      "outputs": [
        {
          "output_type": "stream",
          "name": "stdout",
          "text": [
            "Hello\n"
          ]
        }
      ]
    },
    {
      "cell_type": "code",
      "source": [
        "repeat_message('Hello', 5)"
      ],
      "metadata": {
        "colab": {
          "base_uri": "https://localhost:8080/"
        },
        "id": "oBPrekwTflIp",
        "outputId": "cea4d0c6-f41d-49a9-fd6f-c3e8ef947903"
      },
      "execution_count": null,
      "outputs": [
        {
          "output_type": "stream",
          "name": "stdout",
          "text": [
            "Hello\n",
            "Hello\n",
            "Hello\n",
            "Hello\n",
            "Hello\n"
          ]
        }
      ]
    },
    {
      "cell_type": "code",
      "source": [
        "# 함수를 정의할 때, default parameter들은 *반드시* default 값을 갖지 않는 파라미터들 뒤에 선언해야됨\n",
        "def test(x, y= 1):\n",
        "    return x*y"
      ],
      "metadata": {
        "id": "-hJSgKGafryZ"
      },
      "execution_count": null,
      "outputs": []
    },
    {
      "cell_type": "code",
      "source": [
        "def test2(x=1,y):\n",
        "    return x*y"
      ],
      "metadata": {
        "id": "63uk8Rg2f2jg"
      },
      "execution_count": null,
      "outputs": []
    },
    {
      "cell_type": "markdown",
      "source": [
        "  File \"<ipython-input-7-b993e01e4ffa>\", line 1\n",
        "    def test2(x=1,y):\n",
        "             ^\n",
        "SyntaxError: non-default argument follows default argument"
      ],
      "metadata": {
        "id": "Pzh_2g_1f7vf"
      }
    },
    {
      "cell_type": "code",
      "source": [
        "#argument 전달 방법\n",
        "# 함수를 호출할 때, 값(argumnet)를 전달하는 방법:\n",
        "# positional argumnet: 함수에 정의된 파라미터 순서대로 값(argumnet)를 전달하는 방식\n",
        "# keyword argumnet: param_name= value 와 같은 형식으로 값(argument)을 전달하는 방식\n",
        "# - keyword argument 방식으로 값(argumnet) 전달할 때는 함수에 정의된 파라미터의 순서를 지키지 않도도 됨\n",
        "\n",
        "def minus(x, y):\n",
        "    return x-y"
      ],
      "metadata": {
        "id": "BldEMGGhf5BA"
      },
      "execution_count": null,
      "outputs": []
    },
    {
      "cell_type": "code",
      "source": [
        "minus(1,2)"
      ],
      "metadata": {
        "colab": {
          "base_uri": "https://localhost:8080/"
        },
        "id": "RIFqe-oogabp",
        "outputId": "9d2fb0aa-5309-45e8-a12a-b0f05ad6e7ba"
      },
      "execution_count": null,
      "outputs": [
        {
          "output_type": "execute_result",
          "data": {
            "text/plain": [
              "-1"
            ]
          },
          "metadata": {},
          "execution_count": 9
        }
      ]
    },
    {
      "cell_type": "code",
      "source": [
        "minus(x=1, y=2)"
      ],
      "metadata": {
        "colab": {
          "base_uri": "https://localhost:8080/"
        },
        "id": "Tl8mLnKwgbUY",
        "outputId": "482d7f2c-df7d-428d-9109-f7749a667858"
      },
      "execution_count": null,
      "outputs": [
        {
          "output_type": "execute_result",
          "data": {
            "text/plain": [
              "-1"
            ]
          },
          "metadata": {},
          "execution_count": 10
        }
      ]
    },
    {
      "cell_type": "code",
      "source": [
        "minus(y=1, x=1)"
      ],
      "metadata": {
        "colab": {
          "base_uri": "https://localhost:8080/"
        },
        "id": "b6AU0tLageGY",
        "outputId": "4ef4109a-b873-4ac0-9968-009780c6647c"
      },
      "execution_count": null,
      "outputs": [
        {
          "output_type": "execute_result",
          "data": {
            "text/plain": [
              "0"
            ]
          },
          "metadata": {},
          "execution_count": 11
        }
      ]
    },
    {
      "cell_type": "code",
      "source": [
        "minus(10, y=20)"
      ],
      "metadata": {
        "colab": {
          "base_uri": "https://localhost:8080/"
        },
        "id": "XnahTErJgggY",
        "outputId": "1027b407-918f-49b0-ec59-20ff777485db"
      },
      "execution_count": null,
      "outputs": [
        {
          "output_type": "execute_result",
          "data": {
            "text/plain": [
              "-10"
            ]
          },
          "metadata": {},
          "execution_count": 12
        }
      ]
    },
    {
      "cell_type": "code",
      "source": [
        "# 가변길이 인수(variable-length arguments)\n",
        "print('안녕하세요') # argument 1개"
      ],
      "metadata": {
        "colab": {
          "base_uri": "https://localhost:8080/"
        },
        "id": "_LkE9huxgi8Q",
        "outputId": "b108ab4c-e093-433a-f57a-a098731b77c3"
      },
      "execution_count": null,
      "outputs": [
        {
          "output_type": "stream",
          "name": "stdout",
          "text": [
            "안녕하세요\n"
          ]
        }
      ]
    },
    {
      "cell_type": "code",
      "source": [
        "def fn_test(a, *b):\n",
        "    print('a =', a)\n",
        "    print('b =', b)"
      ],
      "metadata": {
        "id": "qJnsEMiagsb4"
      },
      "execution_count": null,
      "outputs": []
    },
    {
      "cell_type": "code",
      "source": [
        "fn_test(123)"
      ],
      "metadata": {
        "colab": {
          "base_uri": "https://localhost:8080/"
        },
        "id": "ZVjfhw6rg6wo",
        "outputId": "19064848-abbc-473a-d35b-fb8fd454c8f9"
      },
      "execution_count": null,
      "outputs": [
        {
          "output_type": "stream",
          "name": "stdout",
          "text": [
            "a = 123\n",
            "b = ()\n"
          ]
        }
      ]
    },
    {
      "cell_type": "code",
      "source": [
        "fn_test(1,2,3)"
      ],
      "metadata": {
        "colab": {
          "base_uri": "https://localhost:8080/"
        },
        "id": "ZIrzPBMlg8Cg",
        "outputId": "154cc706-9638-47c0-dd1c-5ca33b1c35f1"
      },
      "execution_count": null,
      "outputs": [
        {
          "output_type": "stream",
          "name": "stdout",
          "text": [
            "a = 1\n",
            "b = (2, 3)\n"
          ]
        }
      ]
    },
    {
      "cell_type": "code",
      "source": [
        ""
      ],
      "metadata": {
        "id": "LOwJkIagg-P4"
      },
      "execution_count": null,
      "outputs": []
    },
    {
      "cell_type": "markdown",
      "source": [
        "# 가번길이 키워드 인수\n",
        "* variable-length + keyword\n",
        "    1. variable-length argument: 함수를 호출할 때 임의의 개수(0개도 가능)의 argument를 전달해도 됨\n",
        "    1. keyword argument: 함수를 호출할 때  반드시 parameter를 명시해서 argument를 전달함 **param_name=value**\n",
        "* 함수를 정의(선언) 할 때, 파라미터 앞에 **를 사용함\n"
      ],
      "metadata": {
        "id": "ZC2Kg4ZyhRtT"
      }
    },
    {
      "cell_type": "code",
      "source": [
        "def fn_test3(**kwargs):\n",
        "    print(kwargs)\n",
        "    for k in kwargs:\n",
        "        print(k)"
      ],
      "metadata": {
        "id": "ZoZqh1Zlh8bP"
      },
      "execution_count": null,
      "outputs": []
    },
    {
      "cell_type": "code",
      "source": [
        "fn_test3(a=1, b='abc', x=1, y=10)"
      ],
      "metadata": {
        "colab": {
          "base_uri": "https://localhost:8080/"
        },
        "id": "j0kNzfjBiBqw",
        "outputId": "87eff831-da75-4013-b2f5-d9b10f5ebd90"
      },
      "execution_count": null,
      "outputs": [
        {
          "output_type": "stream",
          "name": "stdout",
          "text": [
            "{'a': 1, 'b': 'abc', 'x': 1, 'y': 10}\n",
            "a\n",
            "b\n",
            "x\n",
            "y\n"
          ]
        }
      ]
    },
    {
      "cell_type": "code",
      "source": [
        "def make_emp(no, name, **kwargs):\n",
        "    emp = {'emp_no': no, 'emp_name': name}\n",
        "    for k,v in kwargs.items():\n",
        "        if( k == 'email') or (k == 'phone'):\n",
        "            emp[k] = v\n",
        "    return emp"
      ],
      "metadata": {
        "id": "DIJD0x4-iEio"
      },
      "execution_count": null,
      "outputs": []
    },
    {
      "cell_type": "code",
      "source": [
        "make_emp(no=1524, name='데이비드', email='dudgh7410@naver.com', phone='010-1111-2222', \n",
        "              height=175, weight=60, gender='male')"
      ],
      "metadata": {
        "colab": {
          "base_uri": "https://localhost:8080/"
        },
        "id": "a4P49A-RigA3",
        "outputId": "9df5689d-c6c8-4429-9730-b929dae30669"
      },
      "execution_count": null,
      "outputs": [
        {
          "output_type": "execute_result",
          "data": {
            "text/plain": [
              "{'email': 'dudgh7410@naver.com',\n",
              " 'emp_name': '데이비드',\n",
              " 'emp_no': 1524,\n",
              " 'phone': '010-1111-2222'}"
            ]
          },
          "metadata": {},
          "execution_count": 27
        }
      ]
    },
    {
      "cell_type": "code",
      "source": [
        ""
      ],
      "metadata": {
        "id": "QkyoXVeXiyNg"
      },
      "execution_count": null,
      "outputs": []
    }
  ]
}