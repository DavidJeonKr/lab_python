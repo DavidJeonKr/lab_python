{
  "nbformat": 4,
  "nbformat_minor": 0,
  "metadata": {
    "colab": {
      "name": "py00.ipynb",
      "provenance": [],
      "collapsed_sections": [],
      "authorship_tag": "ABX9TyNDPQ4Is0IB9a2vD/jv9ZAq",
      "include_colab_link": true
    },
    "kernelspec": {
      "name": "python3",
      "display_name": "Python 3"
    },
    "language_info": {
      "name": "python"
    }
  },
  "cells": [
    {
      "cell_type": "markdown",
      "metadata": {
        "id": "view-in-github",
        "colab_type": "text"
      },
      "source": [
        "<a href=\"https://colab.research.google.com/github/DavidJeonKr/lab_python/blob/master/py00.ipynb\" target=\"_parent\"><img src=\"https://colab.research.google.com/assets/colab-badge.svg\" alt=\"Open In Colab\"/></a>"
      ]
    },
    {
      "cell_type": "markdown",
      "source": [
        "# tuple (tuple)"
      ],
      "metadata": {
        "id": "BangvthjNkEk"
      }
    },
    {
      "cell_type": "markdown",
      "source": [
        "튜플은 몇가지 점을 제외하곤 리스트와 거의 비슷하면 리스트와 다른 점\n",
        "* 리스트는 [ ]으로 둘러싸지만 튜플은 ( )으로 두러싼다\n",
        "* 리스트와 그 값의 생성 or 수정이 가능하지만 튜플은 그 값을 바꿀 수 없다."
      ],
      "metadata": {
        "id": "JDCmRCgxNjDv"
      }
    },
    {
      "cell_type": "markdown",
      "source": [
        "# 튜플 다루기"
      ],
      "metadata": {
        "id": "6fUg2NK0OGmr"
      }
    },
    {
      "cell_type": "markdown",
      "source": [
        "* 인덱싱 하기"
      ],
      "metadata": {
        "id": "zs9LxpboOLn6"
      }
    },
    {
      "cell_type": "code",
      "execution_count": 4,
      "metadata": {
        "colab": {
          "base_uri": "https://localhost:8080/"
        },
        "id": "Bi7xhNosNb_w",
        "outputId": "6c9810c4-c00b-4f96-b604-154e17b8d0c8"
      },
      "outputs": [
        {
          "output_type": "execute_result",
          "data": {
            "text/plain": [
              "1"
            ]
          },
          "metadata": {},
          "execution_count": 4
        }
      ],
      "source": [
        "t1 = (1, 2, 'a', 'b')\n",
        "t1[0]"
      ]
    },
    {
      "cell_type": "code",
      "source": [
        "t1[3]"
      ],
      "metadata": {
        "colab": {
          "base_uri": "https://localhost:8080/",
          "height": 36
        },
        "id": "Dq_VzUMQOY4_",
        "outputId": "c1e0fe30-4343-4789-fb5f-1b3b3d794343"
      },
      "execution_count": 8,
      "outputs": [
        {
          "output_type": "execute_result",
          "data": {
            "application/vnd.google.colaboratory.intrinsic+json": {
              "type": "string"
            },
            "text/plain": [
              "'b'"
            ]
          },
          "metadata": {},
          "execution_count": 8
        }
      ]
    },
    {
      "cell_type": "markdown",
      "source": [
        "* 슬라이싱 하기"
      ],
      "metadata": {
        "id": "i60qEgKyO6f4"
      }
    },
    {
      "cell_type": "code",
      "source": [
        "t1 = (1, 2, 'a', 'b')\n",
        "t1[1:]"
      ],
      "metadata": {
        "colab": {
          "base_uri": "https://localhost:8080/"
        },
        "id": "oW8chpJ7Of4_",
        "outputId": "7fa029a2-8f9a-4296-dbd0-64573ebae15c"
      },
      "execution_count": 10,
      "outputs": [
        {
          "output_type": "execute_result",
          "data": {
            "text/plain": [
              "(2, 'a', 'b')"
            ]
          },
          "metadata": {},
          "execution_count": 10
        }
      ]
    },
    {
      "cell_type": "markdown",
      "source": [
        "* 튜플 더하기"
      ],
      "metadata": {
        "id": "XLEe_YdvPGAn"
      }
    },
    {
      "cell_type": "code",
      "source": [
        "t2 = (3, 4)\n",
        "t1 + t2"
      ],
      "metadata": {
        "colab": {
          "base_uri": "https://localhost:8080/"
        },
        "id": "5wVYYVt3PEwW",
        "outputId": "06f4b4b5-dc4c-40e0-a743-300ec3974aec"
      },
      "execution_count": 11,
      "outputs": [
        {
          "output_type": "execute_result",
          "data": {
            "text/plain": [
              "(1, 2, 'a', 'b', 3, 4)"
            ]
          },
          "metadata": {},
          "execution_count": 11
        }
      ]
    },
    {
      "cell_type": "markdown",
      "source": [
        "* 튜플 곱하기"
      ],
      "metadata": {
        "id": "ctCh9FDDPPUU"
      }
    },
    {
      "cell_type": "code",
      "source": [
        "t2 * 3"
      ],
      "metadata": {
        "colab": {
          "base_uri": "https://localhost:8080/"
        },
        "id": "9yInhWeOPQ_e",
        "outputId": "a65b732a-bc85-4996-b1b9-9ade9fa5d52c"
      },
      "execution_count": 12,
      "outputs": [
        {
          "output_type": "execute_result",
          "data": {
            "text/plain": [
              "(3, 4, 3, 4, 3, 4)"
            ]
          },
          "metadata": {},
          "execution_count": 12
        }
      ]
    },
    {
      "cell_type": "markdown",
      "source": [
        "* 튜플 길이 구하기"
      ],
      "metadata": {
        "id": "CgirPtiZPUM0"
      }
    },
    {
      "cell_type": "code",
      "source": [
        "t1 = (1, 2, 'a', 'b')\n",
        "len(t1)"
      ],
      "metadata": {
        "colab": {
          "base_uri": "https://localhost:8080/"
        },
        "id": "aaBcpQB4PV0g",
        "outputId": "d04e6fff-5ef6-48c0-89a6-d58b7d93e6ed"
      },
      "execution_count": 13,
      "outputs": [
        {
          "output_type": "execute_result",
          "data": {
            "text/plain": [
              "4"
            ]
          },
          "metadata": {},
          "execution_count": 13
        }
      ]
    },
    {
      "cell_type": "markdown",
      "source": [
        "# 딕셔너리 자료형"
      ],
      "metadata": {
        "id": "xHCYJwdMPq-D"
      }
    },
    {
      "cell_type": "markdown",
      "source": [
        "```\n",
        "사람은 누구든지 '이름' = '홍길동', '생일' = '몇 월 며칠' 등으로 구별할 수 있다. 파이썬은 영리하게도 이러한 대응 관계를\n",
        "나타낼 수 있는 자료형을 가지고 있다. 요즘 사용하는 대부분의 언어도 이러한 대응 관계를 나타내는 자료형을 갖고 있는데,\n",
        "이를 연관 배열(Associative array) 또는 (Hash)라고 한다.\n",
        "파이썬에서는 이러한 자료형을 딕셔너리(Dictionary)라고 하는데, 단어 그대로 해석하면 사전이라는 뜻이다. \n",
        "즉'people' 이라는 단어에 '사람', 'baseball' 이라는 단어에 '야구'라는 뜻이 부합되듯이 딕셔너리는 Key와 Value를 한쌍으로\n",
        "갖는 자료형이다.\n",
        "```"
      ],
      "metadata": {
        "id": "B4P-57TaPtUz"
      }
    },
    {
      "cell_type": "code",
      "source": [
        "# 기본 딕셔너리\n",
        "# {Key1:Value1, Key2:Value2, Key3:balue3, ...}"
      ],
      "metadata": {
        "id": "pBR28MScQRbv"
      },
      "execution_count": 14,
      "outputs": []
    },
    {
      "cell_type": "code",
      "source": [
        "dic = {'name':'pey', 'phone':'01011112222', 'birth':'0922'}"
      ],
      "metadata": {
        "id": "ajI7FwzDQrhF"
      },
      "execution_count": 17,
      "outputs": []
    },
    {
      "cell_type": "code",
      "source": [
        "#del dic['name']\n",
        "dic"
      ],
      "metadata": {
        "colab": {
          "base_uri": "https://localhost:8080/"
        },
        "id": "90Qz3J2UQ5Ze",
        "outputId": "a94e99da-7515-4092-ea60-57444b619b8b"
      },
      "execution_count": 22,
      "outputs": [
        {
          "output_type": "execute_result",
          "data": {
            "text/plain": [
              "{'birth': '0922', 'phone': '01011112222'}"
            ]
          },
          "metadata": {},
          "execution_count": 22
        }
      ]
    },
    {
      "cell_type": "code",
      "source": [
        "grade = {'pey':10, 'juliet':99}\n",
        "grade['pey']"
      ],
      "metadata": {
        "colab": {
          "base_uri": "https://localhost:8080/"
        },
        "id": "jQzC9kz6Rmfm",
        "outputId": "32cb3c1d-d1ab-4d7e-bf14-292c8afc9b0e"
      },
      "execution_count": 24,
      "outputs": [
        {
          "output_type": "execute_result",
          "data": {
            "text/plain": [
              "10"
            ]
          },
          "metadata": {},
          "execution_count": 24
        }
      ]
    },
    {
      "cell_type": "code",
      "source": [
        "s1 = set([1,2,3])\n",
        "s1"
      ],
      "metadata": {
        "colab": {
          "base_uri": "https://localhost:8080/"
        },
        "id": "oc9dQeGgTHHS",
        "outputId": "459ecbd0-c731-45ff-ce71-2c99d5db01c1"
      },
      "execution_count": 26,
      "outputs": [
        {
          "output_type": "execute_result",
          "data": {
            "text/plain": [
              "{1, 2, 3}"
            ]
          },
          "metadata": {},
          "execution_count": 26
        }
      ]
    },
    {
      "cell_type": "code",
      "source": [
        "s2 = set(\"Hello\")\n",
        "s2"
      ],
      "metadata": {
        "colab": {
          "base_uri": "https://localhost:8080/"
        },
        "id": "u9Neo6E0TOZd",
        "outputId": "a67d8249-3cd4-4e3d-bd81-d43ba3e39a3d"
      },
      "execution_count": 28,
      "outputs": [
        {
          "output_type": "execute_result",
          "data": {
            "text/plain": [
              "{'H', 'e', 'l', 'o'}"
            ]
          },
          "metadata": {},
          "execution_count": 28
        }
      ]
    },
    {
      "cell_type": "code",
      "source": [
        "s1 = set([1,2,3])\n",
        "l1 = list(s1)\n",
        "l1"
      ],
      "metadata": {
        "colab": {
          "base_uri": "https://localhost:8080/"
        },
        "id": "cUe0xANmTY_N",
        "outputId": "2af5b5cb-4ffd-4d19-a962-96449e80cfae"
      },
      "execution_count": 30,
      "outputs": [
        {
          "output_type": "execute_result",
          "data": {
            "text/plain": [
              "[1, 2, 3]"
            ]
          },
          "metadata": {},
          "execution_count": 30
        }
      ]
    },
    {
      "cell_type": "code",
      "source": [
        "l1[0]"
      ],
      "metadata": {
        "colab": {
          "base_uri": "https://localhost:8080/"
        },
        "id": "G34sFmNOTssV",
        "outputId": "8b508106-fe9a-424b-a65d-dbe425fbfb09"
      },
      "execution_count": 31,
      "outputs": [
        {
          "output_type": "execute_result",
          "data": {
            "text/plain": [
              "1"
            ]
          },
          "metadata": {},
          "execution_count": 31
        }
      ]
    },
    {
      "cell_type": "code",
      "source": [
        "t1 = tuple(s1)\n",
        "t1"
      ],
      "metadata": {
        "colab": {
          "base_uri": "https://localhost:8080/"
        },
        "id": "Jm1nWILYTuDd",
        "outputId": "c95459d0-c336-4299-ba1b-42617582f95a"
      },
      "execution_count": 32,
      "outputs": [
        {
          "output_type": "execute_result",
          "data": {
            "text/plain": [
              "(1, 2, 3)"
            ]
          },
          "metadata": {},
          "execution_count": 32
        }
      ]
    },
    {
      "cell_type": "code",
      "source": [
        "t1[0]"
      ],
      "metadata": {
        "colab": {
          "base_uri": "https://localhost:8080/"
        },
        "id": "f4KzPM8ZTvot",
        "outputId": "d98c8b60-ac62-4c5d-cb66-2e2b519a8a91"
      },
      "execution_count": 33,
      "outputs": [
        {
          "output_type": "execute_result",
          "data": {
            "text/plain": [
              "1"
            ]
          },
          "metadata": {},
          "execution_count": 33
        }
      ]
    },
    {
      "cell_type": "code",
      "source": [
        "s1 = set([1,2,3,4,5,6])\n",
        "s2 = set([4,5,6,7,8,9])"
      ],
      "metadata": {
        "id": "lixtdF8KTwK9"
      },
      "execution_count": 35,
      "outputs": []
    },
    {
      "cell_type": "code",
      "source": [
        "#교집합\n",
        "s1 & s2"
      ],
      "metadata": {
        "colab": {
          "base_uri": "https://localhost:8080/"
        },
        "id": "gGcGLUF0UMJt",
        "outputId": "6bc9150b-1ee1-45f2-a498-f5c10acaefe9"
      },
      "execution_count": 37,
      "outputs": [
        {
          "output_type": "execute_result",
          "data": {
            "text/plain": [
              "{4, 5, 6}"
            ]
          },
          "metadata": {},
          "execution_count": 37
        }
      ]
    },
    {
      "cell_type": "code",
      "source": [
        "s1.intersection(s2)"
      ],
      "metadata": {
        "colab": {
          "base_uri": "https://localhost:8080/"
        },
        "id": "fDLMb9PQUPBV",
        "outputId": "1aec4bc8-e808-4a3b-aa32-56dcde878805"
      },
      "execution_count": 38,
      "outputs": [
        {
          "output_type": "execute_result",
          "data": {
            "text/plain": [
              "{4, 5, 6}"
            ]
          },
          "metadata": {},
          "execution_count": 38
        }
      ]
    },
    {
      "cell_type": "code",
      "source": [
        "#합집합\n",
        "s1 | s2"
      ],
      "metadata": {
        "colab": {
          "base_uri": "https://localhost:8080/"
        },
        "id": "GQ_BqeWOURm1",
        "outputId": "e841cbc7-699c-4c8c-ae00-90bbbcec7ec8"
      },
      "execution_count": 39,
      "outputs": [
        {
          "output_type": "execute_result",
          "data": {
            "text/plain": [
              "{1, 2, 3, 4, 5, 6, 7, 8, 9}"
            ]
          },
          "metadata": {},
          "execution_count": 39
        }
      ]
    },
    {
      "cell_type": "code",
      "source": [
        "s1.union(s2)"
      ],
      "metadata": {
        "colab": {
          "base_uri": "https://localhost:8080/"
        },
        "id": "kzSBWVkXUWbt",
        "outputId": "e9f694ba-16b3-46fe-9f73-cc2f729a4c1f"
      },
      "execution_count": 41,
      "outputs": [
        {
          "output_type": "execute_result",
          "data": {
            "text/plain": [
              "{1, 2, 3, 4, 5, 6, 7, 8, 9}"
            ]
          },
          "metadata": {},
          "execution_count": 41
        }
      ]
    },
    {
      "cell_type": "code",
      "source": [
        "#차집합\n",
        "s1 - s2"
      ],
      "metadata": {
        "colab": {
          "base_uri": "https://localhost:8080/"
        },
        "id": "36FVJ7cAUZ2F",
        "outputId": "f1f2b092-cadd-47df-bded-a7fa76e94e17"
      },
      "execution_count": 43,
      "outputs": [
        {
          "output_type": "execute_result",
          "data": {
            "text/plain": [
              "{1, 2, 3}"
            ]
          },
          "metadata": {},
          "execution_count": 43
        }
      ]
    },
    {
      "cell_type": "code",
      "source": [
        "s2 - s1"
      ],
      "metadata": {
        "colab": {
          "base_uri": "https://localhost:8080/"
        },
        "id": "if1kjI6EUfX0",
        "outputId": "6b8a4db1-220b-4755-c718-20790bb57c6a"
      },
      "execution_count": 44,
      "outputs": [
        {
          "output_type": "execute_result",
          "data": {
            "text/plain": [
              "{7, 8, 9}"
            ]
          },
          "metadata": {},
          "execution_count": 44
        }
      ]
    },
    {
      "cell_type": "code",
      "source": [
        "s1.difference(s2)"
      ],
      "metadata": {
        "colab": {
          "base_uri": "https://localhost:8080/"
        },
        "id": "0Stmd9cJUgo8",
        "outputId": "46e5495d-22b6-409a-82bf-d9c753d2f44a"
      },
      "execution_count": 45,
      "outputs": [
        {
          "output_type": "execute_result",
          "data": {
            "text/plain": [
              "{1, 2, 3}"
            ]
          },
          "metadata": {},
          "execution_count": 45
        }
      ]
    },
    {
      "cell_type": "code",
      "source": [
        "s2.difference(s1)"
      ],
      "metadata": {
        "colab": {
          "base_uri": "https://localhost:8080/"
        },
        "id": "d9r54xkMUkkk",
        "outputId": "2e3405b7-8645-4a9d-f0f5-c3ac2926106f"
      },
      "execution_count": 46,
      "outputs": [
        {
          "output_type": "execute_result",
          "data": {
            "text/plain": [
              "{7, 8, 9}"
            ]
          },
          "metadata": {},
          "execution_count": 46
        }
      ]
    },
    {
      "cell_type": "code",
      "source": [
        "#값 1개 추가하기\n",
        "s1 = set({1,2,3})\n",
        "s1.add(4)\n",
        "s1"
      ],
      "metadata": {
        "colab": {
          "base_uri": "https://localhost:8080/"
        },
        "id": "J35Z_kuEUmRc",
        "outputId": "d391fbed-f1c0-482e-a4f2-ee645fab8e2d"
      },
      "execution_count": 48,
      "outputs": [
        {
          "output_type": "execute_result",
          "data": {
            "text/plain": [
              "{1, 2, 3, 4}"
            ]
          },
          "metadata": {},
          "execution_count": 48
        }
      ]
    },
    {
      "cell_type": "code",
      "source": [
        "a = {'name':'pey', 'phoen':'010-1111-2222', 'birth':'0922'}\n",
        "print(a.get('nokey'))"
      ],
      "metadata": {
        "colab": {
          "base_uri": "https://localhost:8080/"
        },
        "id": "KtdfWoWbUxrd",
        "outputId": "1f2e0549-30a6-4802-e04b-409d0c251119"
      },
      "execution_count": 50,
      "outputs": [
        {
          "output_type": "stream",
          "name": "stdout",
          "text": [
            "None\n"
          ]
        }
      ]
    },
    {
      "cell_type": "code",
      "source": [
        "def add(a, b):\n",
        "    return a+b\n",
        "a = 3\n",
        "b = 4\n",
        "c = add(a, b)\n",
        "print(c)\n",
        "# 매개변수 : parameter\n",
        "# 매개변수는 함수에 입력으로 전달된 값을 받는 변수를 의미한다\n",
        "# 인수 : arguments\n",
        "# 인수는 함수를 호출할 때 전달하는 입력값을 의미한다."
      ],
      "metadata": {
        "colab": {
          "base_uri": "https://localhost:8080/"
        },
        "id": "LOT7_duYd_Si",
        "outputId": "5ca16bd8-ffb0-403b-e708-0aeb17d5c413"
      },
      "execution_count": 53,
      "outputs": [
        {
          "output_type": "stream",
          "name": "stdout",
          "text": [
            "7\n"
          ]
        }
      ]
    },
    {
      "cell_type": "markdown",
      "source": [
        "# 머신러닝\n",
        "## 분류하는 문제\n",
        "* 1이야 2야 "
      ],
      "metadata": {
        "id": "213sJ1Vn_-sf"
      }
    },
    {
      "cell_type": "code",
      "source": [
        ""
      ],
      "metadata": {
        "id": "GOVHfX2ex0tU"
      },
      "execution_count": null,
      "outputs": []
    }
  ]
}