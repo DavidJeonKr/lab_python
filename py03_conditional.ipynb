{
  "nbformat": 4,
  "nbformat_minor": 0,
  "metadata": {
    "colab": {
      "name": "py03_conditional.ipynb",
      "provenance": [],
      "collapsed_sections": [],
      "authorship_tag": "ABX9TyOpk5LBOi9KWKZMbaWeykY6",
      "include_colab_link": true
    },
    "kernelspec": {
      "name": "python3",
      "display_name": "Python 3"
    },
    "language_info": {
      "name": "python"
    }
  },
  "cells": [
    {
      "cell_type": "markdown",
      "metadata": {
        "id": "view-in-github",
        "colab_type": "text"
      },
      "source": [
        "<a href=\"https://colab.research.google.com/github/DavidJeonKr/lab_python/blob/master/py03_conditional.ipynb\" target=\"_parent\"><img src=\"https://colab.research.google.com/assets/colab-badge.svg\" alt=\"Open In Colab\"/></a>"
      ]
    },
    {
      "cell_type": "markdown",
      "source": [
        "# 조건문 (Conditional Statement)"
      ],
      "metadata": {
        "id": "RtmanXfFGuFa"
      }
    },
    {
      "cell_type": "markdown",
      "source": [
        "## else가 없는 조건문\n",
        "\n",
        "\n",
        "```\n",
        "if 조건식:\n",
        "    조건식을 만족할 때 실행할 코드(들)\n",
        "```\n",
        "\n",
        "* `if 조건식` 뒤에는 반드시 콜론(:)을 사용해야 함.\n",
        "* `if` 블록(조건식을 만족할 때 실행할 문장들)은 반드시 들여쓰기(indentation)을 해야함.\n",
        "* 파이썬은 들여쓰기(indentation)이 제대로 되어 있지 안흥면 문장이 실행되지 않음!\n"
      ],
      "metadata": {
        "id": "rhifDtUxG0bh"
      }
    },
    {
      "cell_type": "code",
      "execution_count": 8,
      "metadata": {
        "id": "DowljnquGe11"
      },
      "outputs": [],
      "source": [
        "n = 100"
      ]
    },
    {
      "cell_type": "code",
      "source": [
        "if n > 0:\n",
        "    print(f'{n}은 양수입니다.')\n",
        "    print('if 블록 내부 끝')\n",
        "print('if 블록 바깥')"
      ],
      "metadata": {
        "colab": {
          "base_uri": "https://localhost:8080/"
        },
        "id": "hh0C5PPWIiDY",
        "outputId": "ccadffcd-7ff6-42dc-bc18-2b2818e9583d"
      },
      "execution_count": 6,
      "outputs": [
        {
          "output_type": "stream",
          "name": "stdout",
          "text": [
            "if 블록 바깥\n"
          ]
        }
      ]
    },
    {
      "cell_type": "markdown",
      "source": [
        "# else 있는 조건문\n",
        "\n",
        "```\n",
        "if 조건식:\n",
        "    조건식을 만족할 때 실행할 문장(들)\n",
        "else:\n",
        "    조건식을 만족하지 못할 때(조건식이 False가 될 때) 실행할 문장(들)\n",
        "```\n",
        "* if 조건식과 else 뒤에는 반드시 콜론(:)을 사용해야 함.\n",
        "* if 블록과 else 블록은 반드시 들여쓰기를 해야 함.\n"
      ],
      "metadata": {
        "id": "xAPgRGOZLIub"
      }
    },
    {
      "cell_type": "code",
      "source": [
        "n = -123\n",
        "if n > 0:\n",
        "    print(f'{n}은 양수입니다...')\n",
        "else:\n",
        "    print(f'{n}은 양수가 아닙니다...')\n",
        "print('if-else 끝')"
      ],
      "metadata": {
        "colab": {
          "base_uri": "https://localhost:8080/"
        },
        "id": "IepjP1BuLqyX",
        "outputId": "1d30e15c-7283-44fd-e1e8-3e751dd9c9d3"
      },
      "execution_count": 15,
      "outputs": [
        {
          "output_type": "stream",
          "name": "stdout",
          "text": [
            "-123은 양수가 아닙니다...\n",
            "if-else 끝\n"
          ]
        }
      ]
    },
    {
      "cell_type": "code",
      "source": [
        "# 정수(integer)를 입력 받아서 변수에 저장\n",
        "n = int(input('정수 입력>>> '))\n",
        "if n % 2 == 0:\n",
        "    print('even')\n",
        "else:\n",
        "    print('odd')"
      ],
      "metadata": {
        "colab": {
          "base_uri": "https://localhost:8080/"
        },
        "id": "h_D7QB_pMSM5",
        "outputId": "3de239ae-4608-4f4b-e34b-4f469fe411b4"
      },
      "execution_count": 16,
      "outputs": [
        {
          "output_type": "stream",
          "name": "stdout",
          "text": [
            "정수 입력>>> 123\n",
            "odd\n"
          ]
        }
      ]
    },
    {
      "cell_type": "markdown",
      "source": [
        "## Chained Conditionals (if-elif-else)\n",
        "\n",
        "```\n",
        "if 조건식 1:\n",
        "    조건식1을 만족할 때 실행할 문장(들)\n",
        "elif 조건식 2:\n",
        "    조건식2를 만족할 때 실행할 문장(들)\n",
        "else: \n",
        "    위의 모든 조건식들을 만족하지 못할 때 실행할 문장(들)\n",
        "```\n",
        "\n",
        "* `elif` 조건식은 1개 이상일 수 있음\n",
        "* `else` 블록은 생략할 수 있음.\n",
        "* 모든 블록들은 들여쓰기가 되어야 함\n",
        "\n"
      ],
      "metadata": {
        "id": "PRFkUFRPSzUd"
      }
    },
    {
      "cell_type": "code",
      "source": [
        "n = int(input('정수입력 >>>'))\n",
        "\n",
        "if n > 0:\n",
        "    print('양수')\n",
        "elif n < 0:\n",
        "    print('음수')\n",
        "else:\n",
        "    print('Zero')\n",
        "print('=== end ===')"
      ],
      "metadata": {
        "colab": {
          "base_uri": "https://localhost:8080/"
        },
        "id": "uAov3E_NTTUS",
        "outputId": "532c5590-f893-4a13-8f50-f0518a097f26"
      },
      "execution_count": 18,
      "outputs": [
        {
          "output_type": "stream",
          "name": "stdout",
          "text": [
            "정수입력 >>>123\n",
            "양수\n",
            "=== end ===\n"
          ]
        }
      ]
    },
    {
      "cell_type": "markdown",
      "source": [
        "## 중첩 조건문(nested conditional)\n",
        "\n",
        "* `if` 블록, `elif` 블록, `else` 블록 안에서 조건문을 사용하는 것.\n",
        "* 중첩 조건문은 `elif`를 사용하거나 논리 연산자(and, or)를 사용해서 중첩되지 않는 조건문으로 만들 수 있음.\n",
        "* 중첩 조건문을 사용할 떄는 들여쓰기(indentation) 주의해야 함. 들여쓰기 방법에 따라 완전히 다른 실행 코드(로직)이 될 수 있음.\n",
        "\n",
        "```\n",
        "if condition1:\n",
        "    if condition2:\n",
        "        statements\n",
        "    else:\n",
        "        statements\n",
        "\n",
        "if condition1:\n",
        "    statements\n",
        "else:\n",
        "    if condition2:\n",
        "        statements\n",
        "    else:\n",
        "        statements\n",
        "```\n",
        "\n"
      ],
      "metadata": {
        "id": "o1bvPyi2V_EY"
      }
    },
    {
      "cell_type": "code",
      "source": [
        "kor = int(input('국 점수입력>>>'))\n",
        "eng = int(input('영 점수입력>>>'))\n",
        "math = int(input('수 점수입력>>>'))\n",
        "\n",
        "avg = (kor + eng + math) / 3\n",
        "print('평균: ', avg)\n",
        "\n",
        "if avg >= 90:\n",
        "    print('A')\n",
        "elif avg >= 80:\n",
        "    print('B')\n",
        "elif avg >=70:\n",
        "    print('C')\n",
        "else:\n",
        "    print('D')"
      ],
      "metadata": {
        "colab": {
          "base_uri": "https://localhost:8080/"
        },
        "id": "f_D_2eIpWw4Q",
        "outputId": "7790c579-0d59-4014-b607-f951aa2a9029"
      },
      "execution_count": 22,
      "outputs": [
        {
          "output_type": "stream",
          "name": "stdout",
          "text": [
            "국 점수입력>>>90\n",
            "영 점수입력>>>90\n",
            "수 점수입력>>>90\n",
            "평균:  90.0\n",
            "A\n"
          ]
        }
      ]
    }
  ]
}