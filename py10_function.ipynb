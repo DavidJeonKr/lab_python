{
  "nbformat": 4,
  "nbformat_minor": 0,
  "metadata": {
    "colab": {
      "name": "py10_function.ipynb",
      "provenance": [],
      "collapsed_sections": [],
      "authorship_tag": "ABX9TyP7WdW+z8rdmZHl8pzrgayQ",
      "include_colab_link": true
    },
    "kernelspec": {
      "name": "python3",
      "display_name": "Python 3"
    },
    "language_info": {
      "name": "python"
    }
  },
  "cells": [
    {
      "cell_type": "markdown",
      "metadata": {
        "id": "view-in-github",
        "colab_type": "text"
      },
      "source": [
        "<a href=\"https://colab.research.google.com/github/DavidJeonKr/lab_python/blob/master/py10_function.ipynb\" target=\"_parent\"><img src=\"https://colab.research.google.com/assets/colab-badge.svg\" alt=\"Open In Colab\"/></a>"
      ]
    },
    {
      "cell_type": "markdown",
      "source": [
        "# 함수(Function)\n",
        "\n",
        "*   **함수(function)**: 기능을 수행하는 코드 블록.\n",
        "*   **인수(argument)**: 함수를 호출할 때, 함수에게 전달하는 값(들).\n",
        "*   **매개변수(parameter)**: argument를 저장하기 위해서, 함수를 정의할 때 선언하는 (지역) 변수.\n",
        "*   **반환 값(return value)**: 함수가 기능 수행의 결과로 반환하는 값.\n",
        "    * 반환 값이 있는 함수\n",
        "    * 반환 값이 없는 함수"
      ],
      "metadata": {
        "id": "corBfnIWOK3s"
      }
    },
    {
      "cell_type": "code",
      "execution_count": null,
      "metadata": {
        "id": "ikhsjiB7OAGz"
      },
      "outputs": [],
      "source": [
        "result = len([1, 2, 3, 4, 5])\n",
        "# function: len\n",
        "# argument: [1, 2, 3, 4, 5]\n",
        "# 함수 호출(call, invoke): len([1, 2, 3, 4, 5])\n",
        "# return value: 5"
      ]
    },
    {
      "cell_type": "code",
      "source": [
        "result"
      ],
      "metadata": {
        "colab": {
          "base_uri": "https://localhost:8080/"
        },
        "id": "wA9nB-ShQH9X",
        "outputId": "d56099fd-2db8-4cdf-9deb-887422522f2c"
      },
      "execution_count": null,
      "outputs": [
        {
          "output_type": "execute_result",
          "data": {
            "text/plain": [
              "5"
            ]
          },
          "metadata": {},
          "execution_count": 2
        }
      ]
    },
    {
      "cell_type": "markdown",
      "source": [
        "# 함수 정의(선언) 방법\n",
        "\n",
        "```\n",
        "def function_name([param1, ...]):\n",
        "    [\"\"\"문서화 주석(documentaion comment): 함수에 대한 설명\"\"\"]\n",
        "    함수 기능 작성(코드)\n",
        "    [return 반환 값]\n",
        "```\n"
      ],
      "metadata": {
        "id": "RbIy7ICPUyBw"
      }
    },
    {
      "cell_type": "code",
      "source": [
        "def subtract(x, y):\n",
        "    \"\"\"숫자 2개(x, y)를 전달받아서, x - y를 반환하는 함수.\n",
        "    \"\"\"\n",
        "    return x - y"
      ],
      "metadata": {
        "id": "eSANItwuQJAl"
      },
      "execution_count": null,
      "outputs": []
    },
    {
      "cell_type": "code",
      "source": [
        "result = subtract(1, 2)\n",
        "result"
      ],
      "metadata": {
        "colab": {
          "base_uri": "https://localhost:8080/"
        },
        "id": "lW-tK8SqXTQ9",
        "outputId": "bf56aaec-4da0-4c27-c2a0-76031b2d3a77"
      },
      "execution_count": null,
      "outputs": [
        {
          "output_type": "execute_result",
          "data": {
            "text/plain": [
              "-1"
            ]
          },
          "metadata": {},
          "execution_count": 4
        }
      ]
    },
    {
      "cell_type": "markdown",
      "source": [
        "파이썬은 2개 이상의 값을 반환하는 함수를 정의할 수 있음."
      ],
      "metadata": {
        "id": "g2ZaTR5WYjTk"
      }
    },
    {
      "cell_type": "code",
      "source": [
        "def plus_and_minus(x, y):\n",
        "    \"\"\"2개의 숫자 x, y를 전달받아서, x+y와 x-y를 반환하는 함수.\n",
        "    \"\"\"\n",
        "    return x + y, x - y"
      ],
      "metadata": {
        "id": "TMBr0uafX27Q"
      },
      "execution_count": null,
      "outputs": []
    },
    {
      "cell_type": "code",
      "source": [
        "result = plus_and_minus(1, 2)\n",
        "result  #> tuple"
      ],
      "metadata": {
        "colab": {
          "base_uri": "https://localhost:8080/"
        },
        "id": "579jtoG8ZJLk",
        "outputId": "9e9910df-9126-4a96-f04c-701b3911e754"
      },
      "execution_count": null,
      "outputs": [
        {
          "output_type": "execute_result",
          "data": {
            "text/plain": [
              "(3, -1)"
            ]
          },
          "metadata": {},
          "execution_count": 6
        }
      ]
    },
    {
      "cell_type": "code",
      "source": [
        "# tuple decomposition(분해): x, y = (3, -1)\n",
        "plus, minus = plus_and_minus(1, 2)\n",
        "print(plus)\n",
        "print(minus)"
      ],
      "metadata": {
        "colab": {
          "base_uri": "https://localhost:8080/"
        },
        "id": "U86tHQWSZgwt",
        "outputId": "64b20427-f409-48ec-86b6-be1c6441205a"
      },
      "execution_count": null,
      "outputs": [
        {
          "output_type": "stream",
          "name": "stdout",
          "text": [
            "3\n",
            "-1\n"
          ]
        }
      ]
    },
    {
      "cell_type": "markdown",
      "source": [
        "값을 반환하지 않는 함수"
      ],
      "metadata": {
        "id": "fgRlOCx_aosb"
      }
    },
    {
      "cell_type": "code",
      "source": [
        "def repeat_messages(message, n):\n",
        "    \"\"\"문자열 message와 양의 정수 n을 전달받아서,\n",
        "    전달받은 문자열을 n번 반복해서 출력하는 함수.\n",
        "    \"\"\"\n",
        "    for _ in range(n):\n",
        "        print(message)\n",
        "\n",
        "    # return None  # 반환 값이 없다는 것을 명시적으로 작성.\n",
        "    # 반환 값이 없는 경우 return None 문장을 보통 생략함."
      ],
      "metadata": {
        "id": "mQCQqLxqaNeZ"
      },
      "execution_count": null,
      "outputs": []
    },
    {
      "cell_type": "code",
      "source": [
        "result = repeat_messages('안녕하세요', 3)"
      ],
      "metadata": {
        "colab": {
          "base_uri": "https://localhost:8080/"
        },
        "id": "cf6pQvT-bidd",
        "outputId": "bd076c51-cfc0-4881-da3d-5ad423fb13ff"
      },
      "execution_count": null,
      "outputs": [
        {
          "output_type": "stream",
          "name": "stdout",
          "text": [
            "안녕하세요\n",
            "안녕하세요\n",
            "안녕하세요\n"
          ]
        }
      ]
    },
    {
      "cell_type": "code",
      "source": [
        "print(result)  #> None: 값이 없음."
      ],
      "metadata": {
        "colab": {
          "base_uri": "https://localhost:8080/"
        },
        "id": "MuODqTPtb-Ob",
        "outputId": "9bd19949-7f33-4f3d-97f4-302b42c4fe37"
      },
      "execution_count": null,
      "outputs": [
        {
          "output_type": "stream",
          "name": "stdout",
          "text": [
            "None\n"
          ]
        }
      ]
    },
    {
      "cell_type": "markdown",
      "source": [
        "# 함수 정의/호출 연습"
      ],
      "metadata": {
        "id": "E5d-XKDjc4VY"
      }
    },
    {
      "cell_type": "code",
      "source": [
        "import random  # 난수 관련 함수들을 사용하기 위해서\n",
        "import math as m # 수학 함수들을 사용하기 위해서"
      ],
      "metadata": {
        "id": "5PhEJ8_3cE3g"
      },
      "execution_count": null,
      "outputs": []
    },
    {
      "cell_type": "markdown",
      "source": [
        "## Ex 1.\n",
        "\n",
        "* 함수 이름: make_list\n",
        "* 기능: start 이상 end 미만의 정수 난수 n개를 갖는 리스트를 반환."
      ],
      "metadata": {
        "id": "jZRxh5EVdkjU"
      }
    },
    {
      "cell_type": "code",
      "source": [
        "def make_list(start, end, n):\n",
        "    \"\"\" start 이상 end 미만의 정수 난수 n개를 갖는 리스트를 반환. \"\"\"\n",
        "    result = [random.randrange(start, end) for _ in range(n)]\n",
        "    return result\n",
        "\n",
        "arr = make_list(0, 25, 5)\n",
        "print(arr)"
      ],
      "metadata": {
        "id": "MUAP3i32c_Ks",
        "colab": {
          "base_uri": "https://localhost:8080/"
        },
        "outputId": "fd0003d8-eee4-4128-8dff-f5a1722d751e"
      },
      "execution_count": null,
      "outputs": [
        {
          "output_type": "stream",
          "name": "stdout",
          "text": [
            "[0, 3, 14, 15, 9]\n"
          ]
        }
      ]
    },
    {
      "cell_type": "markdown",
      "source": [
        "## Ex 2.\n",
        "\n",
        "* 함수 이름: calc_sum\n",
        "* 기능: 숫자들을 저장하고 있는 리스트의 모든 원소들의 합을 반환."
      ],
      "metadata": {
        "id": "ieofApmvdzU2"
      }
    },
    {
      "cell_type": "code",
      "source": [
        "def calc_sum(numbers):\n",
        "    \"\"\" 숫자들을 저장하고 있는 리스트의 모든 원소들의 합을 반환. \"\"\"\n",
        "    total = 0\n",
        "    for x in numbers:\n",
        "        total += x\n",
        "    return total\n",
        "\n",
        "sum1 = calc_sum([1,2,3,4])\n",
        "print(sum1) "
      ],
      "metadata": {
        "colab": {
          "base_uri": "https://localhost:8080/"
        },
        "id": "SwNnkVI1hMOt",
        "outputId": "2fd0371e-9c53-4f5a-ef41-298177a22646"
      },
      "execution_count": null,
      "outputs": [
        {
          "output_type": "stream",
          "name": "stdout",
          "text": [
            "10\n"
          ]
        }
      ]
    },
    {
      "cell_type": "markdown",
      "source": [
        "## Ex 3.\n",
        "\n",
        "* 함수 이름: calc_mean\n",
        "* 기능: 숫자들을 저장하고 있는 리스트의 모든 원소들의 평균을 반환."
      ],
      "metadata": {
        "id": "f3ayBvnKeKMU"
      }
    },
    {
      "cell_type": "code",
      "source": [
        "def calc_mean(numbers):\n",
        "    \"\"\" 숫자들을 저장하고 있는 리스트의 모든 원소들의 평균을 반환. \"\"\"\n",
        "    total = 0\n",
        "    for x in numbers:\n",
        "        total += x\n",
        "    result = total/len(numbers)\n",
        "    return result\n",
        "\n",
        "mean = calc_mean([2,3,4,5])\n",
        "print(mean)"
      ],
      "metadata": {
        "colab": {
          "base_uri": "https://localhost:8080/"
        },
        "id": "Jl7J518hjIKd",
        "outputId": "aef34cdd-8486-45d4-8cd3-3e39667e21b2"
      },
      "execution_count": null,
      "outputs": [
        {
          "output_type": "stream",
          "name": "stdout",
          "text": [
            "3.5\n"
          ]
        }
      ]
    },
    {
      "cell_type": "code",
      "source": [
        "def calc_mean_ver1(numbers):\n",
        "    return calc_sum(numbers) / len(numbers)\n",
        "mean = calc_mean_ver1([1,2,3,4,5])\n",
        "print(mean)"
      ],
      "metadata": {
        "colab": {
          "base_uri": "https://localhost:8080/"
        },
        "id": "R1qBoSPboNgt",
        "outputId": "6f8b42c8-0fc7-4f57-feb5-95a62e054274"
      },
      "execution_count": null,
      "outputs": [
        {
          "output_type": "stream",
          "name": "stdout",
          "text": [
            "3.0\n"
          ]
        }
      ]
    },
    {
      "cell_type": "markdown",
      "source": [
        "## Ex 4.\n",
        "\n",
        "* 함수 이름: calc_variance\n",
        "* 기능: 숫자들을 저장하고 있는 리스트의 원소들의 분산을 반환."
      ],
      "metadata": {
        "id": "iJn8cQnJeTMz"
      }
    },
    {
      "cell_type": "code",
      "source": [
        "def calc_variance(numbers):\n",
        "    \"\"\"숫자들을 저장하고 있는 리스트의 원소들의 분산을 반환. \"\"\"\n",
        "    total = 0\n",
        "    for x in numbers:\n",
        "        total += x\n",
        "    # 평균\n",
        "    mean = total/len(numbers)\n",
        "    # 편차(numbers - 평균) 제곱 합\n",
        "    dev = 0\n",
        "    for x in numbers:\n",
        "        dev+=pow(x-mean,2)\n",
        "    # print(f'dev:', dev)\n",
        "    var = dev/len(numbers)\n",
        "    return var\n",
        "var = calc_variance([10,20,30,40,50])\n",
        "print(var)"
      ],
      "metadata": {
        "colab": {
          "base_uri": "https://localhost:8080/"
        },
        "id": "8apU-vlejzuW",
        "outputId": "5139697a-9ac1-4e78-f2d6-2039344d5a40"
      },
      "execution_count": null,
      "outputs": [
        {
          "output_type": "stream",
          "name": "stdout",
          "text": [
            "200.0\n"
          ]
        }
      ]
    },
    {
      "cell_type": "code",
      "source": [
        "def calc_variance_ver1(numbers):\n",
        "    mean = calc_mean_ver1(numbers)\n",
        "    dev = [(x - mean) ** 2 for x in numbers]\n",
        "    # print(f'dev:', dev)\n",
        "    dev = m.fsum(dev)\n",
        "    var = dev/len(numbers)\n",
        "    return var\n",
        "var = calc_variance_ver1([10,20,30,40,50])\n",
        "print(var)"
      ],
      "metadata": {
        "colab": {
          "base_uri": "https://localhost:8080/"
        },
        "id": "lFZAhWRZol--",
        "outputId": "bfe43297-b385-47b8-c7bc-edc3a4c06ba9"
      },
      "execution_count": null,
      "outputs": [
        {
          "output_type": "stream",
          "name": "stdout",
          "text": [
            "200.0\n"
          ]
        }
      ]
    },
    {
      "cell_type": "markdown",
      "source": [
        "## Ex 5.\n",
        "\n",
        "* 함수 이름: calc_stddev\n",
        "* 기능: 숫자들을 저장하고 있는 리스트의 원소들의 표준편차를 반환."
      ],
      "metadata": {
        "id": "KkASkmomefqn"
      }
    },
    {
      "cell_type": "code",
      "source": [
        "def calc_stddev(numbers):\n",
        "    \"\"\"숫자들을 저장하고 있는 리스트의 원소들의 분산을 반환. \"\"\"\n",
        "    total = 0\n",
        "    for x in numbers:\n",
        "        total += x\n",
        "    # 평균\n",
        "    mean = total/len(numbers)\n",
        "    # 편차(numbers - 평균) 제곱 합\n",
        "    dev = 0\n",
        "    for x in numbers:\n",
        "        dev+=pow(x-mean,2)\n",
        "    var = dev/len(numbers)\n",
        "    sd = pow(var,1/2)\n",
        "    return sd\n",
        "sd = calc_stddev([10,20,30,40,50])\n",
        "print(sd)"
      ],
      "metadata": {
        "colab": {
          "base_uri": "https://localhost:8080/"
        },
        "id": "Ag-fB7gDmuc-",
        "outputId": "9ee82148-abde-42a0-80dc-b112557a10ce"
      },
      "execution_count": null,
      "outputs": [
        {
          "output_type": "stream",
          "name": "stdout",
          "text": [
            "14.142135623730951\n"
          ]
        }
      ]
    },
    {
      "cell_type": "code",
      "source": [
        "def calc_stddev_ver1(numbers):\n",
        "    dev = calc_variance_ver1(numbers)\n",
        "    sd = m.sqrt(dev)\n",
        "    return sd\n",
        "sd = calc_stddev_ver1([10,20,30,40,50])\n",
        "print(sd)"
      ],
      "metadata": {
        "colab": {
          "base_uri": "https://localhost:8080/"
        },
        "id": "6021W4kOrPT-",
        "outputId": "eeb5fa21-38e3-4150-dd9b-4db0ca8b58f8"
      },
      "execution_count": null,
      "outputs": [
        {
          "output_type": "stream",
          "name": "stdout",
          "text": [
            "14.142135623730951\n"
          ]
        }
      ]
    },
    {
      "cell_type": "markdown",
      "source": [
        "## Ex 6.\n",
        "\n",
        "* 함수 이름: find_max_and_min\n",
        "* 기능: 숫자들을 저장하고 있는 리스트에서 최댓값과 최솟값을 반환."
      ],
      "metadata": {
        "id": "zJFy7EEGetFp"
      }
    },
    {
      "cell_type": "code",
      "source": [
        "def find_max_and_min(numbers):\n",
        "    \"\"\"숫자들을 저장하고 있는 리스트에서 최댓값과 최솟값을 반환. \"\"\"\n",
        "    num_max = max(numbers)\n",
        "    num_min = min(numbers)\n",
        "    return num_max, num_min\n",
        "\n",
        "find_max_and_min([1,2,3,4,5])"
      ],
      "metadata": {
        "id": "Jsi7W5nEeFjC",
        "colab": {
          "base_uri": "https://localhost:8080/"
        },
        "outputId": "27445dc0-bdb9-4880-ce98-123d3ca6502f"
      },
      "execution_count": null,
      "outputs": [
        {
          "output_type": "execute_result",
          "data": {
            "text/plain": [
              "(5, 1)"
            ]
          },
          "metadata": {},
          "execution_count": 24
        }
      ]
    },
    {
      "cell_type": "code",
      "source": [
        ""
      ],
      "metadata": {
        "id": "NYc3nLtQn_jX"
      },
      "execution_count": null,
      "outputs": []
    }
  ]
}